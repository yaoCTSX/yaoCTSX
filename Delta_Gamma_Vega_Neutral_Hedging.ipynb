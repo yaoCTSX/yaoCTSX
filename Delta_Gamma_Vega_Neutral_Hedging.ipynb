{
 "cells": [
  {
   "cell_type": "code",
   "execution_count": 29,
   "id": "d6886f50",
   "metadata": {},
   "outputs": [],
   "source": [
    "import qfin\n",
    "from qfin.options import BlackScholesCall\n",
    "from qfin.options import BlackScholesPut"
   ]
  },
  {
   "cell_type": "code",
   "execution_count": 30,
   "id": "8cbd53ae",
   "metadata": {},
   "outputs": [
    {
     "name": "stdout",
     "output_type": "stream",
     "text": [
      "short_nvda.price: 32262.97184314012\n",
      "short_nvda.delta: -520.646909741435\n",
      "short_nvda.gamma: -6.310349315377861\n",
      "short_nvda.vega: -62021.45408339529\n",
      "call_a.delta: 0.49667839777014255\n",
      "call_a.gamma: 0.0060198459429795\n",
      "call_a.vega: 62.10249334685633\n",
      "call_b.delta: 0.4729383666825259\n",
      "call_b.gamma: 0.0057321118066236566\n",
      "call_b.vega: 61.96170767613403\n"
     ]
    }
   ],
   "source": [
    "short_nvda = BlackScholesCall(543, .53, 545, 30/365, .015)\n",
    "print(\"short_nvda.price:\", short_nvda.price*(1000))\n",
    "print(\"short_nvda.delta:\", short_nvda.delta*(-1000))\n",
    "print(\"short_nvda.gamma:\", short_nvda.gamma*(-1000))\n",
    "print(\"short_nvda.vega:\", short_nvda.vega*(-1000))\n",
    "\n",
    "call_a = BlackScholesCall(543, .53, 550, 30/365, .015)\n",
    "print(\"call_a.delta:\", call_a.delta)\n",
    "print(\"call_a.gamma:\", call_a.gamma)\n",
    "print(\"call_a.vega:\", call_a.vega)\n",
    "\n",
    "call_b = BlackScholesCall(543, .53, 555, 30/365, .015)\n",
    "print(\"call_b.delta:\", call_b.delta)\n",
    "print(\"call_b.gamma:\", call_b.gamma)\n",
    "print(\"call_b.vega:\", call_b.vega)"
   ]
  },
  {
   "cell_type": "code",
   "execution_count": 31,
   "id": "ca6dc881",
   "metadata": {},
   "outputs": [
    {
     "name": "stdout",
     "output_type": "stream",
     "text": [
      "[[-4.42571429e+04  7.14285714e+00]\n",
      " [ 4.43571429e+04 -7.14285714e+00]]\n"
     ]
    }
   ],
   "source": [
    "import numpy as np\n",
    "\n",
    "greeks = np.array([[call_a.gamma, call_b.gamma], [call_a.vega, call_b.vega]])\n",
    "portfolio_greeks = [[short_nvda.gamma*1000], [short_nvda.vega*1000]]\n",
    "\n",
    "# We need to round otherwise we can end up with a non-invertible matrix\n",
    "inv = np.linalg.inv(np.round(greeks, 2))\n",
    "print(inv)"
   ]
  },
  {
   "cell_type": "code",
   "execution_count": 32,
   "id": "046dfdcb",
   "metadata": {},
   "outputs": [
    {
     "name": "stdout",
     "output_type": "stream",
     "text": [
      "[[ 163732.3551808 ]\n",
      " [-163101.32024926]]\n"
     ]
    }
   ],
   "source": [
    "w = np.dot(inv, portfolio_greeks)\n",
    "print(w)"
   ]
  },
  {
   "cell_type": "code",
   "execution_count": 33,
   "id": "9621bee3",
   "metadata": {},
   "outputs": [
    {
     "name": "stdout",
     "output_type": "stream",
     "text": [
      "[[ 0.]\n",
      " [-0.]]\n"
     ]
    }
   ],
   "source": [
    "print(np.round(np.dot(np.round(greeks, 2), w) - portfolio_greeks))"
   ]
  },
  {
   "cell_type": "code",
   "execution_count": 34,
   "id": "31361168",
   "metadata": {},
   "outputs": [
    {
     "name": "stdout",
     "output_type": "stream",
     "text": [
      "[[4688.]\n",
      " [   0.]\n",
      " [  -0.]]\n"
     ]
    }
   ],
   "source": [
    "# Greeks including delta\n",
    "portfolio_greeks = [[short_nvda.delta*-1000], [short_nvda.gamma*-1000], [short_nvda.vega*-1000]]\n",
    "greeks = np.array([[call_a.delta, call_b.delta], [call_a.gamma, call_b.gamma], [call_a.vega, call_b.vega]])\n",
    "print(np.round(np.dot(np.round(greeks, 2), w) + portfolio_greeks))"
   ]
  },
  {
   "cell_type": "code",
   "execution_count": null,
   "id": "ce2cba29",
   "metadata": {},
   "outputs": [],
   "source": [
    "#Thus we shall purchase: 4688 shares of NVIDIA, -163101 Call B Options, 163732 Call A Options, and -1000 NVDA Calls "
   ]
  },
  {
   "cell_type": "code",
   "execution_count": null,
   "id": "2e91f8f2",
   "metadata": {},
   "outputs": [],
   "source": []
  },
  {
   "cell_type": "code",
   "execution_count": null,
   "id": "e2fd5da9",
   "metadata": {},
   "outputs": [],
   "source": []
  }
 ],
 "metadata": {
  "kernelspec": {
   "display_name": "Python 3 (ipykernel)",
   "language": "python",
   "name": "python3"
  },
  "language_info": {
   "codemirror_mode": {
    "name": "ipython",
    "version": 3
   },
   "file_extension": ".py",
   "mimetype": "text/x-python",
   "name": "python",
   "nbconvert_exporter": "python",
   "pygments_lexer": "ipython3",
   "version": "3.9.7"
  }
 },
 "nbformat": 4,
 "nbformat_minor": 5
}
